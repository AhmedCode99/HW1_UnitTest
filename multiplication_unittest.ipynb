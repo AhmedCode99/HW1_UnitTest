import unittest

def test_multiplication():
    # Test cases with expected results
    test_cases = [
        (0, 0, 0),  # 0 * 0 = 0
        (3, 5, 15),  # 3 * 5 = 15
        (7, 8, 56),  # 7 * 8 = 56
        (13, 9, 117),  # 13 * 9 = 117
    ]

    for multiplicand, multiplier, expected_product in test_cases:
        product = quantum_multiplication(multiplicand, multiplier)

        unittest.TestCase().assertEqual(product, expected_product, "Positve Multiplication is NOT Working")


def test_large_integer_multiplication():
    # Test cases with expected results
    test_cases = [
        (100, 100, 10000),  # 100 * 100 = 10000
        (20 ,531, 10620),  # 20 * 531 = 10620
        (77, 45, 3465),  # 77 * 45 = 3465
        (13, 93, 1209),  # 13 * 93 = 1209
    ]

    for multiplicand, multiplier, expected_product in test_cases:
        product = quantum_multiplication(multiplicand, multiplier)

        unittest.TestCase().assertEqual(product, expected_product, "Large Integer Multiplication is NOT Working")



def test_negative_multiplication():
    # Test cases with negative numbers
    test_cases = [
        (-3, -5, 15),  # -3 * -5 = 15
        (-5, -5, 25),  # -5 * -5 = 25
        (-2, -5, 10),  # -2 * -5 = 10
    ]

    for multiplicand, multiplier, expected_product in test_cases:
        product = quantum_multiplication(multiplicand, multiplier)
        unittest.TestCase().assertEqual(product, expected_product, "Negative Multiplication is NOT Working")

def test_mixed_multiplication():
    # Test cases with mixed numbers
    test_cases = [
        (-3, 5, -15),  # -3 * 5 = -15
        (3, -5, -15),  # 3 * -5 = -15
        (3, -2, -6),  # 3 * -2 = -6
    ]

    for multiplicand, multiplier, expected_product in test_cases:
        product = quantum_multiplication(multiplicand, multiplier)
        unittest.TestCase().assertEqual(product, expected_product, "Mixed Multiplication is NOT Working")

if __name__ == '__main__':
    test_multiplication()
    test_large_integer_multiplication()
    test_negative_multiplication()
    test_mixed_multiplication()

